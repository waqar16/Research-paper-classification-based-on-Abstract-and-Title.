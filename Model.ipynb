{
 "cells": [
  {
   "cell_type": "markdown",
   "id": "4fd92dfb",
   "metadata": {},
   "source": []
  },
  {
   "cell_type": "code",
   "execution_count": 1,
   "id": "80953f57",
   "metadata": {},
   "outputs": [],
   "source": [
    "import pandas as pd\n",
    "import numpy as np\n",
    "from sklearn.model_selection import train_test_split\n",
    "from tensorflow.keras.preprocessing.text import Tokenizer\n",
    "from tensorflow.keras.preprocessing import sequence\n",
    "from tensorflow.keras.models import Sequential\n",
    "from tensorflow.keras.layers import Dense, Embedding, LSTM, Dropout, concatenate"
   ]
  },
  {
   "cell_type": "markdown",
   "id": "64187ece",
   "metadata": {},
   "source": [
    "# Training"
   ]
  },
  {
   "cell_type": "code",
   "execution_count": 2,
   "id": "15ef0779",
   "metadata": {},
   "outputs": [],
   "source": [
    "# Load the training data\n",
    "train_data = pd.read_csv('train.csv')"
   ]
  },
  {
   "cell_type": "code",
   "execution_count": 8,
   "id": "e46f3ee6",
   "metadata": {},
   "outputs": [
    {
     "data": {
      "text/plain": [
       "array([[   0,    0,    0, ...,   68,    8,   60],\n",
       "       [   0,    0,    0, ...,   31,  337, 2461],\n",
       "       [   0,    0,    0, ...,    1, 1037, 2746],\n",
       "       ...,\n",
       "       [   0,    0,    0, ...,    1, 3277, 2287],\n",
       "       [   0,    0,    0, ...,    5,  189,  873],\n",
       "       [   0,    0,    0, ...,    4, 1574, 2144]])"
      ]
     },
     "execution_count": 8,
     "metadata": {},
     "output_type": "execute_result"
    }
   ],
   "source": [
    "# Tokenize the text data\n",
    "max_words = 5000\n",
    "max_len = 200\n",
    "\n",
    "tokenizer = Tokenizer(num_words=max_words)\n",
    "tokenizer.fit_on_texts(train_data['ABSTRACT'].values)\n",
    "X_abstract = tokenizer.texts_to_sequences(train_data['ABSTRACT'].values)\n",
    "X_abstract = sequence.pad_sequences(X_abstract, maxlen=max_len)\n",
    "\n",
    "tokenizer.fit_on_texts(train_data['TITLE'].values)\n",
    "X_title = tokenizer.texts_to_sequences(train_data['TITLE'].values)\n",
    "X_title = sequence.pad_sequences(X_title, maxlen=max_len)\n",
    "\n",
    "X = np.concatenate((X_title, X_abstract), axis=1)\n",
    "X"
   ]
  },
  {
   "cell_type": "code",
   "execution_count": 5,
   "id": "9a816b61",
   "metadata": {},
   "outputs": [],
   "source": [
    "# Split data into training and validation sets\n",
    "y = train_data.drop(['ID', 'TITLE', 'ABSTRACT'], axis=1).values\n",
    "X_train, X_val, y_train, y_val = train_test_split(X, y, test_size=0.2, random_state=42)"
   ]
  },
  {
   "cell_type": "code",
   "execution_count": 6,
   "id": "d90562d4",
   "metadata": {},
   "outputs": [],
   "source": [
    "\n",
    "# Define the model\n",
    "model = Sequential()\n",
    "model.add(Embedding(max_words, 128, input_length=max_len*2))\n",
    "model.add(LSTM(128, dropout=0.2, recurrent_dropout=0.2))\n",
    "model.add(Dense(6, activation='sigmoid'))\n",
    "model.compile(loss='binary_crossentropy', optimizer='adam', metrics=['accuracy'])"
   ]
  },
  {
   "cell_type": "code",
   "execution_count": 25,
   "id": "3c1104a3",
   "metadata": {},
   "outputs": [
    {
     "name": "stdout",
     "output_type": "stream",
     "text": [
      "Epoch 1/5\n",
      "263/263 [==============================] - 444s 2s/step - loss: 0.0852 - accuracy: 0.8354 - val_loss: 0.2953 - val_accuracy: 0.7161\n",
      "Epoch 2/5\n",
      "263/263 [==============================] - 460s 2s/step - loss: 0.0739 - accuracy: 0.8416 - val_loss: 0.3034 - val_accuracy: 0.7199\n",
      "Epoch 3/5\n",
      "263/263 [==============================] - 468s 2s/step - loss: 0.0650 - accuracy: 0.8481 - val_loss: 0.3289 - val_accuracy: 0.7161\n",
      "Epoch 4/5\n",
      "263/263 [==============================] - 472s 2s/step - loss: 0.0563 - accuracy: 0.8449 - val_loss: 0.3559 - val_accuracy: 0.7128\n",
      "Epoch 5/5\n",
      "263/263 [==============================] - 473s 2s/step - loss: 0.0512 - accuracy: 0.8527 - val_loss: 0.3744 - val_accuracy: 0.6992\n"
     ]
    }
   ],
   "source": [
    "# Train the model\n",
    "history = model.fit(X_train, y_train, validation_data=(X_val, y_val), epochs=5, batch_size=64)"
   ]
  },
  {
   "cell_type": "code",
   "execution_count": 26,
   "id": "6c336cf3",
   "metadata": {},
   "outputs": [
    {
     "data": {
      "image/png": "[encoded data removed]",
      "text/plain": [
       "<Figure size 640x480 with 1 Axes>"
      ]
     },
     "metadata": {},
     "output_type": "display_data"
    }
   ],
   "source": [
    "import matplotlib.pyplot as plt\n",
    "\n",
    "# Plot training accuracy vs. epochs\n",
    "plt.plot(history.history['accuracy'])\n",
    "plt.plot(history.history['val_accuracy'])\n",
    "plt.title('Model Accuracy')\n",
    "plt.xlabel('Epoch')\n",
    "plt.ylabel('Accuracy')\n",
    "plt.legend(['Train', 'Validation'], loc='upper left')\n",
    "plt.show()"
   ]
  },
  {
   "cell_type": "code",
   "execution_count": 27,
   "id": "21377525",
   "metadata": {},
   "outputs": [],
   "source": [
    " # save the model\n",
    "model.save('my_model_final.h5')\n"
   ]
  },
  {
   "cell_type": "markdown",
   "id": "21b782a0",
   "metadata": {},
   "source": [
    "# Prediction"
   ]
  },
  {
   "cell_type": "code",
   "execution_count": 10,
   "id": "deba9732",
   "metadata": {},
   "outputs": [],
   "source": [
    "# Load the test data\n",
    "test_data = pd.read_csv('test.csv')"
   ]
  },
  {
   "cell_type": "code",
   "execution_count": 15,
   "id": "d4603b53",
   "metadata": {},
   "outputs": [],
   "source": [
    "# Tokenize the text data\n",
    "max_words = 5000\n",
    "max_len = 200\n",
    "\n",
    "tokenizer = Tokenizer(num_words=max_words)\n",
    "tokenizer.fit_on_texts(test_data['ABSTRACT'].values)\n",
    "X_abstract = tokenizer.texts_to_sequences(test_data['ABSTRACT'].values)\n",
    "X_abstract = sequence.pad_sequences(X_abstract, maxlen=max_len)\n",
    "\n",
    "tokenizer.fit_on_texts(test_data['TITLE'].values)\n",
    "X_title = tokenizer.texts_to_sequences(test_data['TITLE'].values)\n",
    "X_title = sequence.pad_sequences(X_title, maxlen=max_len)\n",
    "\n",
    "test_X = np.concatenate((X_title, X_abstract), axis=1)"
   ]
  },
  {
   "cell_type": "code",
   "execution_count": 16,
   "id": "7434543c",
   "metadata": {},
   "outputs": [
    {
     "name": "stdout",
     "output_type": "stream",
     "text": [
      "281/281 [==============================] - 18s 63ms/step\n"
     ]
    }
   ],
   "source": [
    "# Make predictions\n",
    "y_pred = model.predict(test_X)\n",
    "\n",
    "# Round the predictions to the nearest integer\n",
    "y_pred = np.round(y_pred).astype(int)"
   ]
  },
  {
   "cell_type": "code",
   "execution_count": 17,
   "id": "036bdfad",
   "metadata": {},
   "outputs": [],
   "source": [
    "# Create a dataframe of the predictions\n",
    "submission_df = pd.DataFrame(y_pred, columns=['Computer Science', 'Physics', 'Mathematics', 'Statistics', 'Quantitative Biology', 'Quantitative Finance'])"
   ]
  },
  {
   "cell_type": "code",
   "execution_count": 18,
   "id": "e08c4d9c",
   "metadata": {},
   "outputs": [],
   "source": [
    "# Add the ID column from the test data to the dataframe\n",
    "submission_df.insert(0, 'ID', test_data['ID'])"
   ]
  },
  {
   "cell_type": "code",
   "execution_count": 19,
   "id": "ff24c83f",
   "metadata": {},
   "outputs": [],
   "source": [
    "# Save the dataframe to a CSV file\n",
    "submission_df.to_csv('submission_final.csv', index=False)"
   ]
  }
 ],
 "metadata": {
  "kernelspec": {
   "display_name": "Python 3 (ipykernel)",
   "language": "python",
   "name": "python3"
  },
  "language_info": {
   "codemirror_mode": {
    "name": "ipython",
    "version": 3
   },
   "file_extension": ".py",
   "mimetype": "text/x-python",
   "name": "python",
   "nbconvert_exporter": "python",
   "pygments_lexer": "ipython3",
   "version": "3.9.13"
  }
 },
 "nbformat": 4,
 "nbformat_minor": 5
}
